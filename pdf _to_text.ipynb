{
 "cells": [
  {
   "cell_type": "markdown",
   "id": "0a1d1409-18b4-4dc1-86b0-06646f57db12",
   "metadata": {},
   "source": [
    "enter the input:how to train in pdf data in llama3\n",
    "I assume you are referring to training a model on PDF (Portable Document Format) data using LLaMA 3, a language model developed by Meta AI.\n",
    "\n",
    "Here's a step-by-step guide to train a model on PDF data using LLaMA 3:\n",
    "\n",
    "**Prerequisites:**\n",
    "\n",
    "1. Install LLaMA 3 using the instructions provided in their GitHub repository.\n",
    "2. Ensure you have a machine with sufficient computational resources (e.g., GPU, CPU) and memory.\n",
    "\n",
    "**Step 1: Preprocess your PDF data**\n",
    "\n",
    "1. Convert your PDF files to text format using an OCR (Optical Character Recognition) tool like Tesseract-OCR or Adobe Acrobat.\n",
    "2. Tokenize the text data into individual words or tokens.\n",
    "3. Remove any unnecessary characters, such as punctuation marks or special characters.\n",
    "\n",
    "**Step 2: Prepare your training dataset**\n",
    "\n",
    "1. Create a single file containing all the preprocessed text data (e.g., `train_data.txt`).\n",
    "2. Split your dataset into training and validation sets (e.g., 80% for training and 20% for validation).\n",
    "\n",
    "**Step 3: Train LLaMA 3 on your PDF data**\n",
    "\n",
    "1. Clone the LLaMA 3 repository: `git clone https://github.com/facebookresearch/llama.git`\n",
    "2. Navigate to the cloned directory: `cd llama`\n",
    "3. Run the following command to train LLaMA 3:\n",
    "```\n",
    "python scripts/train.py --data_path=<path_to_your_train_data> \\\n",
    "                         --model_name=llama-base \\\n",
    "                         --num_train_epochs=5 \\\n",
    "                         --per_device_train_batch_size=32\n",
    "```\n",
    "Replace `<path_to_your_train_data>` with the path to your preprocessed training data.\n",
    "\n",
    "**Step 4: Evaluate and fine-tune (optional)**\n",
    "\n",
    "1. Use the validation set to evaluate the performance of the trained model:\n",
    "```\n",
    "python scripts/evaluate.py --model_name=llama-base \\\n",
    "                           --data_path=<path_to_your_val_data> \\\n",
    "                           --eval_metric=accuracy\n",
    "```\n",
    "Replace `<path_to_your_val_data>` with the path to your preprocessed validation data.\n",
    "\n",
    "2. If necessary, fine-tune the model by adjusting hyperparameters (e.g., number of epochs, batch size) and re-running the training process.\n",
    "\n",
    "**Step 5: Use your trained model**\n",
    "\n",
    "1. Load the trained model using:\n",
    "```\n",
    "from llama import LLaMA\n",
    "\n",
    "model = LLaMA('llama-base')\n",
    "```\n",
    "2. Use the model for tasks like text classification, sentiment analysis, or generation.\n",
    "\n",
    "Please note that this is a high-level guide and you may need to modify the training process based on your specific requirements and dataset characteristics. Additionally, be aware of potential biases in your dataset and take steps to address them during preprocessing and training.\n",
    "enter the input:\n"
   ]
  },
  {
   "cell_type": "code",
   "execution_count": 2,
   "id": "a877ddbc-565c-4b88-8563-d97c6ed679a1",
   "metadata": {
    "collapsed": true
   },
   "outputs": [
    {
     "name": "stdout",
     "output_type": "stream",
     "text": [
      "Collecting PyPDF2\n",
      "  Downloading pypdf2-3.0.1-py3-none-any.whl.metadata (6.8 kB)\n",
      "Downloading pypdf2-3.0.1-py3-none-any.whl (232 kB)\n",
      "   ---------------------------------------- 0.0/232.6 kB ? eta -:--:--\n",
      "   ------ -------------------------------- 41.0/232.6 kB 991.0 kB/s eta 0:00:01\n",
      "   ---------------------------------------- 232.6/232.6 kB 3.6 MB/s eta 0:00:00\n",
      "Installing collected packages: PyPDF2\n",
      "Successfully installed PyPDF2-3.0.1\n"
     ]
    }
   ],
   "source": [
    "!pip install PyPDF2"
   ]
  },
  {
   "cell_type": "code",
   "execution_count": 1,
   "id": "5ffe7946-b287-4f75-96a7-be4e42f2c750",
   "metadata": {},
   "outputs": [],
   "source": [
    "import PyPDF2 as pdf"
   ]
  },
  {
   "cell_type": "code",
   "execution_count": 13,
   "id": "80f94e8d-9262-4355-9469-9e4097c66bdc",
   "metadata": {},
   "outputs": [],
   "source": [
    "file = open(r\"C:\\Users\\murugan\\Downloads\\ResumeAmalkrishnaAsokankv.pdf\" ,\"rb\")\n",
    "# \n",
    "# file = open(r\"C:\\Users\\murugan\\Downloads\\ResumeAneenaT.pdf\" ,\"rb\")"
   ]
  },
  {
   "cell_type": "code",
   "execution_count": 14,
   "id": "5dfba705-9869-4fdb-bc50-074fc1ede51e",
   "metadata": {},
   "outputs": [],
   "source": [
    "resume =pdf.PdfReader(file)"
   ]
  },
  {
   "cell_type": "code",
   "execution_count": 15,
   "id": "36c388c3-e5e8-43ca-b1b4-953d01a78d04",
   "metadata": {},
   "outputs": [
    {
     "data": {
      "text/plain": [
       "1"
      ]
     },
     "execution_count": 15,
     "metadata": {},
     "output_type": "execute_result"
    }
   ],
   "source": [
    "len(resume.pages)"
   ]
  },
  {
   "cell_type": "code",
   "execution_count": 16,
   "id": "fab57e93-2286-4546-a64f-d54c005fe920",
   "metadata": {},
   "outputs": [],
   "source": [
    "text=resume.pages[0].extract_text()"
   ]
  },
  {
   "cell_type": "code",
   "execution_count": 17,
   "id": "e48e6899",
   "metadata": {
    "collapsed": true
   },
   "outputs": [
    {
     "name": "stdout",
     "output_type": "stream",
     "text": [
      "PYTHON DEVELOPERAMAL KRISHNA ASOKAN KV\n",
      "Python\n",
      "Django\n",
      "HTML 5\n",
      "CSS\n",
      "Bootstrap\n",
      "MySQL\n",
      "SQLite\n",
      "JavaScript\n",
      "React.jsHARD SKILLS\n",
      "LANGUAGECONTACT\n",
      "amalkrish58@gmail.com7510477037\n",
      "Kakkanad-Kochi-Kerala\n",
      "https://github.com/AmalJerry/\n",
      "http://linkedin.com/in/amal-krishna-\n",
      "5211a7285\n",
      "ENGLISH\n",
      "MALAYALAM\n",
      "HINDI\n",
      "INTERESTS\n",
      "VOLUNTEERING\n",
      "PERSONAL DEVELOPMENT\n",
      "SPORTS\n",
      "MOVIESEXPERIENCESUMMARY\n",
      "Highly Motivated And Detail-Oriented Python Developer With A\n",
      "Passion For Developing Innovative Solutions. Skilled in Building,\n",
      "Maintaining And Testing Back-end & Front-end Features And\n",
      "Integrating Them Into Applications. Collaborate With Cross-\n",
      "Functional Teams To Design, Develop & Deploy Software\n",
      "Solutions. I Am Exited About The Opportunity To Shape The\n",
      "Electronics  Revolution With My Skills.\n",
      "(07/2023 - Present)Luminar Technolab - Kakkanad\n",
      "Python Django Intern\n",
      "PROJECTS\n",
      " ToDo Application :  Basic Project Built On Django Rest\n",
      "Framework Using Python. Front-End Designed Using\n",
      "HTML,CSS And Bootstrap.\n",
      " JOB PORTAL :  A Job Portal  Website That Specializes In\n",
      "Job Seeking. Done With DJANGO Framework, HTML, CSS &\n",
      "Bootstrap, Which Completed With Login & Registration\n",
      "Pages.\n",
      " NIEPCE :  Niepce Is A Photography  Page Which Is Done  \n",
      "With Python Django, HTML, CSS & Bootstrap.\n",
      "2020- 2023\n",
      "2018-2020EDUCATION\n",
      "Univercity Of  CalicutUG in B.COM \n",
      "D.H.O.H.S.S PookkaratharaHIGHER SECONDARY   \n",
      "HIGH SCHOOL   \n",
      "D.H.O.H.S.S Pookkarathara2015-2018Designed robust, scalable, secure, and globalized web-based\n",
      "applications to ensure the continuity of all business\n",
      "processes and client satisfaction\n",
      "Have Hands-On Experience In Python, Django, HTML5, CSS,\n",
      "Bootstrap, JavaScript, React, MySQL, SQLite & Git.\n",
      "Used the Python language to develop 3 web applications.\n"
     ]
    }
   ],
   "source": [
    "print(text)"
   ]
  },
  {
   "cell_type": "code",
   "execution_count": null,
   "id": "bbc9072f",
   "metadata": {},
   "outputs": [],
   "source": [
    "from langchain_community.llms import Ollama\n",
    "llm = Ollama(model=\"llama3\")\n",
    "prompt = input(\"enter the input:\")\n",
    "result = llm.invoke(prompt)\n",
    "print(result)\n"
   ]
  },
  {
   "cell_type": "code",
   "execution_count": 22,
   "id": "4ca4dbdf",
   "metadata": {
    "collapsed": true
   },
   "outputs": [
    {
     "name": "stdout",
     "output_type": "stream",
     "text": [
      "AMAL KRISHNA ASOKAN KV\n",
      "PYTHON DEVELOPER\n",
      "SUMMARY\n",
      "CONTACT\n",
      "Highly Motivated And Detail-Oriented Python Developer With A\n",
      "7510477037\n",
      "Passion For Developing Innovative Solutions. Skilled in Building,\n",
      "Maintaining And Testing Back-end & Front-end Features And\n",
      "amalkrish58@gmail.com\n",
      "Integrating Them Into Applications. Collaborate With Cross-\n",
      "Kakkanad-Kochi-Kerala Functional Teams To Design, Develop & Deploy Software\n",
      "Solutions. I Am Exited About The Opportunity To Shape The\n",
      "https://github.com/AmalJerry/ Electronics Revolution With My Skills.\n",
      "http://linkedin.com/in/amal-krishna-\n",
      "EXPERIENCE\n",
      "5211a7285\n",
      "Luminar Technolab - Kakkanad\n",
      "HARD SKILLS (07/2023 - Present)\n",
      "Python Django Intern\n",
      "Designed robust, scalable, secure, and globalized web-based\n",
      "Python\n",
      "applications to ensure the continuity of all business\n",
      "Django processes and client satisfaction\n",
      "Have Hands-On Experience In Python, Django, HTML5, CSS,\n",
      "HTML 5\n",
      "Bootstrap, JavaScript, React, MySQL, SQLite & Git.\n",
      "CSS\n",
      "Used the Python language to develop 3 web applications.\n",
      "Bootstrap\n",
      "MySQL PROJECTS\n",
      "SQLite\n",
      "ToDo Application : Basic Project Built On Django Rest\n",
      "JavaScript Framework Using Python. Front-End Designed Using\n",
      "HTML,CSS And Bootstrap.\n",
      "React.js\n",
      "JOB PORTAL : A Job Portal Website That Specializes In\n",
      "Job Seeking. Done With DJANGO Framework, HTML, CSS &\n",
      "LANGUAGE\n",
      "Bootstrap, Which Completed With Login & Registration\n",
      "Pages.\n",
      "ENGLISH\n",
      "NIEPCE : Niepce Is A Photography Page Which Is Done\n",
      "MALAYALAM\n",
      "With Python Django, HTML, CSS & Bootstrap.\n",
      "HINDI\n",
      "EDUCATION\n",
      "INTERESTS\n",
      "2020- 2023\n",
      "UG in B.COM\n",
      "Univercity Of Calicut\n",
      "VOLUNTEERING\n",
      "2018-2020\n",
      "HIGHER SECONDARY\n",
      "PERSONAL DEVELOPMENT\n",
      "D.H.O.H.S.S Pookkarathara\n",
      "SPORTS 2015-2018\n",
      "HIGH SCHOOL\n",
      "MOVIES\n",
      "D.H.O.H.S.S Pookkarathara\n",
      "\n"
     ]
    }
   ],
   "source": [
    "# text = \"\"\n",
    "# with pdfplumber.open(pdf_path) as pdf:\n",
    "#     for page in pdf.pages:\n",
    "#         page_text = page.extract_text()\n",
    "#         if page_text:\n",
    "#             text += page_text + \"\\n\"\n",
    "# print(text)"
   ]
  },
  {
   "cell_type": "code",
   "execution_count": 1,
   "id": "92d1120d",
   "metadata": {},
   "outputs": [],
   "source": [
    "# pdf_path = open(r\"C:\\Users\\murugan\\Downloads\\ResumeAneenaT.pdf\" ,\"rb\")"
   ]
  },
  {
   "cell_type": "code",
   "execution_count": 1,
   "id": "03d8f2ec",
   "metadata": {},
   "outputs": [],
   "source": [
    "pdf_path = open(r\"C:\\Users\\murugan\\Downloads\\ResumeAmalkrishnaAsokankv.pdf\" ,\"rb\")\n"
   ]
  },
  {
   "cell_type": "code",
   "execution_count": null,
   "id": "6aa6f6e3",
   "metadata": {
    "collapsed": true
   },
   "outputs": [
    {
     "name": "stdout",
     "output_type": "stream",
     "text": [
      "Enter your question: caldidate name?\n",
      "Answer: The candidate's name is Amal Krishna Asokan.\n",
      "Enter your question: meaning of amal krishna asokan\n",
      "Answer: The document appears to be a personal and professional portfolio for Amal Krishna Asokan, a Python developer. The contents of the document include:\n",
      "\n",
      "* A brief summary of his experience and skills as a Python developer\n",
      "* Contact information, including phone number and email address\n",
      "* Links to his GitHub and LinkedIn profiles\n",
      "* A list of his hard skills, including programming languages (Python, Django), front-end technologies (HTML5, CSS, Bootstrap, JavaScript, React), databases (MySQL, SQLite), and version control system (Git)\n",
      "* A section on his experience and projects, including:\n",
      "\t+ A web-based application built using Django framework\n",
      "\t+ A job portal website using Django framework\n",
      "\t+ A photography page using Python Django\n",
      "* Education details, including his undergraduate degree in B.Com from the University of Calicut\n",
      "* Volunteering experiences and personal interests\n",
      "\n",
      "Overall, this document appears to be a comprehensive overview of Amal Krishna Asokan's professional experience, skills, and personal profile.\n",
      "Enter your question: meaning of candidate name?\n",
      "Answer: The document appears to be a candidate's resume or CV, specifically designed for a Python developer position. Here's a breakdown of the different sections:\n",
      "\n",
      "1. **Summary**: A brief overview of the candidate's skills and experience.\n",
      "2. **Contact Information**:\n",
      "\t* Name: Amal Krisha Asokan\n",
      "\t* Phone number: 7510477037\n",
      "\t* Email: amalkrish58@gmail.com\n",
      "\t* GitHub profile: https://github.com/AmalJerry/\n",
      "\t* LinkedIn profile: http://linkedin.com/in/amal-krishna-\n",
      "3. **Experiences**:\n",
      "\t* Luminar Technolab (07/2023 - Present): Python Django Intern, responsible for designing and developing web-based applications.\n",
      "4. **Hard Skills**: A list of programming languages, frameworks, and tools the candidate is proficient in, including:\n",
      "\t+ Programming languages: Python\n",
      "\t+ Frameworks: Django, React.js\n",
      "\t+ Databases: MySQL, SQLite\n",
      "\t+ Front-end technologies: HTML5, CSS, Bootstrap, JavaScript\n",
      "\t+ Version control: Git\n",
      "5. **Projects**:\n",
      "\t* ToDo Application: A web application built using Django Rest Framework, front-end designed with HTML, CSS, and Bootstrap.\n",
      "\t* Job Portal: A job-seeking website developed with Django, HTML, CSS, and Bootstrap, featuring login and registration pages.\n",
      "\t* Niepce: A photography page created using Python Django, HTML, CSS, and Bootstrap.\n",
      "6. **Education**:\n",
      "\t* UG in B.COM (2020-2023) at Univercity Of Calicut\n",
      "7. **Volunteering**: N/A (no specific details provided)\n",
      "8. **Personal Development**: N/A (no specific details provided)\n",
      "9. **Sports**: N/A (no specific details provided)\n",
      "\n",
      "Overall, the resume highlights the candidate's skills and experience in Python development, as well as their passion for innovation and problem-solving.\n",
      "Enter your question: candidate mail id?\n",
      "Answer: The candidate's mail id is:\n",
      "\n",
      "amalkrish58@gmail.com\n",
      "Enter your question: exit\n",
      "Answer: It looks like you have a resume for a Python developer, Amal Krishna Asokan. Here's a summary of the information:\n",
      "\n",
      "**Contact Information:**\n",
      "\n",
      "* Phone number: 7510477037\n",
      "* Email: amalkrish58@gmail.com\n",
      "* LinkedIn: http://linkedin.com/in/amal-krishna-\n",
      "* GitHub: https://github.com/AmalJerry/\n",
      "\n",
      "**Summary:**\n",
      "Highly motivated and detail-oriented Python developer with a passion for developing innovative solutions.\n",
      "\n",
      "**Experience:**\n",
      "\n",
      "1. **Luminar Technolab - Kakkanad (07/2023 - Present)**\n",
      "\t* **Python Django Intern**: Designed robust, scalable, secure, and globalized web-based applications to ensure the continuity of all business processes and client satisfaction.\n",
      "\t* Skills used: Python, Django, HTML5, CSS, Bootstrap, JavaScript, React, MySQL, SQLite, and Git.\n",
      "\n",
      "**Projects:**\n",
      "\n",
      "1. **ToDo Application**: A basic project built on Django Rest Framework using Python. Front-end designed using HTML, CSS, and Bootstrap.\n",
      "2. **Job Portal**: A job portal website that specializes in job seeking. Done with DJANGO framework, HTML, CSS, and Bootstrap. Completed with login and registration pages.\n",
      "3. **NIEPCE**: A photography page done with Python Django, HTML, CSS, and Bootstrap.\n",
      "\n",
      "**Education:**\n",
      "\n",
      "1. **UG in B. COM (2020-2023)**: Univercity Of Calicut\n",
      "2. **HIGHER SECONDARY (2018-2020)**: D.H.O.O.S.Pookkarathara\n",
      "3. **HIGH SCHOOL (2015-2018)**: D.H.O.O.S.S. Pookkarathara\n",
      "\n",
      "**Volunteering:**\n",
      "\n",
      "1. **VOLUNTEERING (2018-2020)**: D.H.O.O.S.Pookkarathara\n",
      "\n",
      "Let me know if you'd like me to help with anything else!\n"
     ]
    }
   ],
   "source": [
    "from langchain_community.llms import Ollama\n",
    "import pdfplumber\n",
    "\n",
    "llm = Ollama(model=\"llama3\")\n",
    "\n",
    "def text_from_pdf(pdf_path):\n",
    "    text = \"\"\n",
    "    with pdfplumber.open(pdf_path) as pdf:\n",
    "        for page in pdf.pages:\n",
    "            page_text = page.extract_text()\n",
    "            if page_text:\n",
    "                text += page_text + \"\\n\"\n",
    "    return text\n",
    "pdf_text =text_from_pdf(pdf_path)\n",
    "while True:\n",
    "    question = input(\"Enter your question: \")\n",
    "\n",
    "    full_prompt = f\"Question: {question}\\n\\nDocument: {pdf_text}\"\n",
    "\n",
    "    result = llm.invoke(full_prompt)\n",
    "    print(\"Answer:\", result)\n"
   ]
  },
  {
   "cell_type": "code",
   "execution_count": null,
   "id": "13a6f4fb",
   "metadata": {},
   "outputs": [],
   "source": []
  },
  {
   "cell_type": "code",
   "execution_count": 35,
   "id": "c584f3ee",
   "metadata": {},
   "outputs": [],
   "source": [
    "# def extract_text_from_pdf(pdf_path):\n",
    "#     text = \"\"\n",
    "#     with pdfplumber.open(pdf_path) as pdf:\n",
    "#         for page in pdf.pages:\n",
    "#             page_text = page.extract_text()\n",
    "#             if page_text:\n",
    "#                 text += page_text + \"\\n\"\n",
    "#     return text\n",
    "# pdf_text = extract_text_from_pdf(pdf_path)"
   ]
  },
  {
   "cell_type": "code",
   "execution_count": 36,
   "id": "c91e2c07",
   "metadata": {
    "collapsed": true
   },
   "outputs": [
    {
     "name": "stdout",
     "output_type": "stream",
     "text": [
      "AMAL KRISHNA ASOKAN KV\n",
      "PYTHON DEVELOPER\n",
      "SUMMARY\n",
      "CONTACT\n",
      "Highly Motivated And Detail-Oriented Python Developer With A\n",
      "7510477037\n",
      "Passion For Developing Innovative Solutions. Skilled in Building,\n",
      "Maintaining And Testing Back-end & Front-end Features And\n",
      "amalkrish58@gmail.com\n",
      "Integrating Them Into Applications. Collaborate With Cross-\n",
      "Kakkanad-Kochi-Kerala Functional Teams To Design, Develop & Deploy Software\n",
      "Solutions. I Am Exited About The Opportunity To Shape The\n",
      "https://github.com/AmalJerry/ Electronics Revolution With My Skills.\n",
      "http://linkedin.com/in/amal-krishna-\n",
      "EXPERIENCE\n",
      "5211a7285\n",
      "Luminar Technolab - Kakkanad\n",
      "HARD SKILLS (07/2023 - Present)\n",
      "Python Django Intern\n",
      "Designed robust, scalable, secure, and globalized web-based\n",
      "Python\n",
      "applications to ensure the continuity of all business\n",
      "Django processes and client satisfaction\n",
      "Have Hands-On Experience In Python, Django, HTML5, CSS,\n",
      "HTML 5\n",
      "Bootstrap, JavaScript, React, MySQL, SQLite & Git.\n",
      "CSS\n",
      "Used the Python language to develop 3 web applications.\n",
      "Bootstrap\n",
      "MySQL PROJECTS\n",
      "SQLite\n",
      "ToDo Application : Basic Project Built On Django Rest\n",
      "JavaScript Framework Using Python. Front-End Designed Using\n",
      "HTML,CSS And Bootstrap.\n",
      "React.js\n",
      "JOB PORTAL : A Job Portal Website That Specializes In\n",
      "Job Seeking. Done With DJANGO Framework, HTML, CSS &\n",
      "LANGUAGE\n",
      "Bootstrap, Which Completed With Login & Registration\n",
      "Pages.\n",
      "ENGLISH\n",
      "NIEPCE : Niepce Is A Photography Page Which Is Done\n",
      "MALAYALAM\n",
      "With Python Django, HTML, CSS & Bootstrap.\n",
      "HINDI\n",
      "EDUCATION\n",
      "INTERESTS\n",
      "2020- 2023\n",
      "UG in B.COM\n",
      "Univercity Of Calicut\n",
      "VOLUNTEERING\n",
      "2018-2020\n",
      "HIGHER SECONDARY\n",
      "PERSONAL DEVELOPMENT\n",
      "D.H.O.H.S.S Pookkarathara\n",
      "SPORTS 2015-2018\n",
      "HIGH SCHOOL\n",
      "MOVIES\n",
      "D.H.O.H.S.S Pookkarathara\n",
      "\n"
     ]
    }
   ],
   "source": [
    "print(pdf_text)"
   ]
  },
  {
   "cell_type": "code",
   "execution_count": 2,
   "id": "76e33655",
   "metadata": {},
   "outputs": [],
   "source": [
    "\n",
    "pdf_path1 =( r\"C:\\Users\\murugan\\Downloads\\Muthukumar.pdf\")\n",
    "# pdf_path2 = (r\"C:\\Users\\murugan\\Downloads\\ResumeAneenaT.pdf\")\n",
    "\n"
   ]
  },
  {
   "cell_type": "code",
   "execution_count": 3,
   "id": "5a064401",
   "metadata": {},
   "outputs": [],
   "source": [
    "from langchain_community.llms import Ollama\n",
    "import pdfplumber\n",
    "\n",
    "llm = Ollama(model=\"llama3\")\n",
    "\n",
    "def text_to_pdf(pdf_paths):\n",
    "    combined_text = \"\"\n",
    "    for pdf_path in pdf_paths:\n",
    "        with pdfplumber.open(pdf_path) as pdf:\n",
    "            for page in pdf.pages:\n",
    "                page_text = page.extract_text()\n",
    "                if page_text:\n",
    "                    combined_text += page_text + \"\\n\"\n",
    "    return combined_text\n",
    "\n",
    "# pdf_text =text_to_pdf([pdf_path1])\n",
    "# while True:\n",
    "#     question = input(\"Enter the questions:\")\n",
    "#     if question ==\"exit\":\n",
    "#         print(\"The End\")\n",
    "#         break \n",
    "#     if question == \"\":\n",
    "#         continue \n",
    "#     full_prompt = f\"Question: {question}\\n\\nDocuments: {pdf_text}\"\n",
    "#     result = llm.invoke(full_prompt)\n",
    "#     print(\"Answer:\", result)\n"
   ]
  },
  {
   "cell_type": "code",
   "execution_count": 5,
   "id": "42f2a96f",
   "metadata": {},
   "outputs": [
    {
     "ename": "FileNotFoundError",
     "evalue": "[Errno 2] No such file or directory: 'C'",
     "output_type": "error",
     "traceback": [
      "\u001b[1;31m---------------------------------------------------------------------------\u001b[0m",
      "\u001b[1;31mFileNotFoundError\u001b[0m                         Traceback (most recent call last)",
      "Cell \u001b[1;32mIn[5], line 1\u001b[0m\n\u001b[1;32m----> 1\u001b[0m text_to_pdf(\u001b[38;5;124mr\u001b[39m\u001b[38;5;124m\"\u001b[39m\u001b[38;5;124mC:\u001b[39m\u001b[38;5;124m\\\u001b[39m\u001b[38;5;124mUsers\u001b[39m\u001b[38;5;124m\\\u001b[39m\u001b[38;5;124mmurugan\u001b[39m\u001b[38;5;124m\\\u001b[39m\u001b[38;5;124mDownloads\u001b[39m\u001b[38;5;124m\\\u001b[39m\u001b[38;5;124mMuthukumar.pdf\u001b[39m\u001b[38;5;124m\"\u001b[39m)\n",
      "Cell \u001b[1;32mIn[3], line 9\u001b[0m, in \u001b[0;36mtext_to_pdf\u001b[1;34m(pdf_paths)\u001b[0m\n\u001b[0;32m      7\u001b[0m combined_text \u001b[38;5;241m=\u001b[39m \u001b[38;5;124m\"\u001b[39m\u001b[38;5;124m\"\u001b[39m\n\u001b[0;32m      8\u001b[0m \u001b[38;5;28;01mfor\u001b[39;00m pdf_path \u001b[38;5;129;01min\u001b[39;00m pdf_paths:\n\u001b[1;32m----> 9\u001b[0m     \u001b[38;5;28;01mwith\u001b[39;00m pdfplumber\u001b[38;5;241m.\u001b[39mopen(pdf_path) \u001b[38;5;28;01mas\u001b[39;00m pdf:\n\u001b[0;32m     10\u001b[0m         \u001b[38;5;28;01mfor\u001b[39;00m page \u001b[38;5;129;01min\u001b[39;00m pdf\u001b[38;5;241m.\u001b[39mpages:\n\u001b[0;32m     11\u001b[0m             page_text \u001b[38;5;241m=\u001b[39m page\u001b[38;5;241m.\u001b[39mextract_text()\n",
      "File \u001b[1;32m~\\anaconda3\\Lib\\site-packages\\pdfplumber\\pdf.py:86\u001b[0m, in \u001b[0;36mPDF.open\u001b[1;34m(cls, path_or_fp, pages, laparams, password, strict_metadata, repair, gs_path)\u001b[0m\n\u001b[0;32m     84\u001b[0m     path \u001b[38;5;241m=\u001b[39m \u001b[38;5;28;01mNone\u001b[39;00m\n\u001b[0;32m     85\u001b[0m \u001b[38;5;28;01melif\u001b[39;00m \u001b[38;5;28misinstance\u001b[39m(path_or_fp, (\u001b[38;5;28mstr\u001b[39m, pathlib\u001b[38;5;241m.\u001b[39mPath)):\n\u001b[1;32m---> 86\u001b[0m     stream \u001b[38;5;241m=\u001b[39m \u001b[38;5;28mopen\u001b[39m(path_or_fp, \u001b[38;5;124m\"\u001b[39m\u001b[38;5;124mrb\u001b[39m\u001b[38;5;124m\"\u001b[39m)\n\u001b[0;32m     87\u001b[0m     stream_is_external \u001b[38;5;241m=\u001b[39m \u001b[38;5;28;01mFalse\u001b[39;00m\n\u001b[0;32m     88\u001b[0m     path \u001b[38;5;241m=\u001b[39m pathlib\u001b[38;5;241m.\u001b[39mPath(path_or_fp)\n",
      "\u001b[1;31mFileNotFoundError\u001b[0m: [Errno 2] No such file or directory: 'C'"
     ]
    }
   ],
   "source": [
    "pdf_path=open(r\"C:\\Users\\murugan\\Downloads\\Muthukumar.pdf\")\n",
    "\n",
    "\n",
    "        "
   ]
  },
  {
   "cell_type": "code",
   "execution_count": null,
   "id": "1bd7a809",
   "metadata": {},
   "outputs": [],
   "source": [
    "https://www.linkedin.com/in/chandana-s-308292296/"
   ]
  },
  {
   "cell_type": "code",
   "execution_count": null,
   "id": "93073f3c",
   "metadata": {},
   "outputs": [],
   "source": [
    "'What is the role or profession mentioned in the PDF?'\n",
    "'What programming languages and frameworks are listed under skills?'\n",
    "'What is the contact information provided (email, phone number, location, GitHub, LinkedIn)?'\n",
    "'What languages are mentioned?'\n",
    "'What are the interests or hobbies listed?'\n",
    "'What is the current work experience mentioned, including the company name and position?'\n",
    "'Can you describe the projects mentioned, including the technologies used and the project details?'\n",
    "'What is the educational background mentioned, including the degrees obtained and the institutions attended?'\n",
    "'How does the candidate describe themselves in the summary section?'\n",
    "\n",
    "send me json forment "
   ]
  },
  {
   "cell_type": "code",
   "execution_count": 14,
   "id": "7c61143c",
   "metadata": {
    "collapsed": true
   },
   "outputs": [
    {
     "name": "stdout",
     "output_type": "stream",
     "text": [
      "Here is the information extracted from the PDF:\n",
      "\n",
      "**Role/Profession:** Software Developer\n",
      "\n",
      "**Skills:**\n",
      "\n",
      "* Backend Technologies:\n",
      "\t+ Python\n",
      "\t+ Django\n",
      "\t+ Rest API\n",
      "\t+ ORM\n",
      "\t+ Oops\n",
      "\t+ C++\n",
      "\t+ Git\n",
      "\t+ Docker\n",
      "\t+ JWT\n",
      "\t+ AWS\n",
      "* Front-end Technologies:\n",
      "\t+ HTML5\n",
      "\t+ CSS3\n",
      "\t+ JavaScript\n",
      "\t+ SQL\n",
      "\t+ Bootstrap\n",
      "\n",
      "**Contact Information:**\n",
      "\n",
      "* Phone Number: +91 7025549521\n",
      "* Email: aneenathoduvail@gmail.com\n",
      "* LinkedIn (not provided)\n",
      "* GitHub (not provided)\n",
      "\n",
      "**Languages:** Python, C++, JavaScript\n",
      "\n",
      "**Interests/Hobbies:** Not mentioned\n",
      "\n",
      "**Current Work Experience:**\n",
      "\n",
      "* Python Developer Internship at Luminar Technolab Ernakulam from April 2023 to Dec 2023\n",
      "\n",
      "**Projects:**\n",
      "\n",
      "1. Social Media Application:\n",
      "\t+ Developed a dynamic and interactive social media application using Python, Django, HTML, CSS, Bootstrap, and ORM\n",
      "\t+ Allows users to connect, share content, and interact with each other\n",
      "2. E-commerce Application:\n",
      "\t+ Created a back-end E-commerce platform using Restful API architecture and JWT authentication for secure access\n",
      "\t+ Customers can purchase products through the website\n",
      "3. E-learning Application:\n",
      "\t+ Led the creation of an E-learning platform that serves both instructors and students effectively\n",
      "\t+ Allows instructors to manage course content and offers students an engaging and interactive learning experience\n",
      "4. Weather Application:\n",
      "\t+ Provides a way for users to track weather in their current location or search for the current weather at a city\n",
      "\t+ Technologies used: JavaScript, HTML, CSS, Bootstrap\n",
      "\n",
      "**Educational Background:**\n",
      "\n",
      "* Bachelor of Computer Science from Pondicherry University (2019-2022)\n",
      "* Python Django Full Stack Development course from Luminar Technolab (2022-2024)\n",
      "* Computer Science from GVHSS Madappally (2016-2018)\n",
      "\n",
      "**Summary:** Not provided\n",
      "\n",
      "**Specific Skills/Experiences related to Web Development and Application Design:**\n",
      "\n",
      "* Experience with Python, Django, Rest API, ORM, Oops, C++, Git, Docker, JWT, AWS\n",
      "* Knowledge of HTML5, CSS3, JavaScript, SQL, Bootstrap\n",
      "* Familiarity with Visual Studio Code, PyCharm, Git, MySQL, Docker, Ms-Office\n"
     ]
    }
   ],
   "source": [
    "from langchain_community.llms import Ollama\n",
    "import pdfplumber\n",
    "List_1=\"\"\n",
    "llm = Ollama(model=\"llama3\")\n",
    "\n",
    "def text_to_pdf(pdf_paths):\n",
    "    combined_text = \"\"\n",
    "    for pdf_path in pdf_paths:\n",
    "        with pdfplumber.open(pdf_path) as pdf:\n",
    "            for page in pdf.pages:\n",
    "                page_text = page.extract_text()\n",
    "                if page_text:\n",
    "                    combined_text += page_text + \"\\n\"\n",
    "    return combined_text\n",
    "\n",
    "pdf_text =text_to_pdf([ pdf_path2])\n",
    "for i in questions:\n",
    "    question = i\n",
    "    full_prompt = f\"Question: {question}\\n\\nDocuments: {pdf_text}\"\n",
    "    result = llm.invoke(full_prompt)\n",
    "    List_1 += result \n",
    "    if len(List_1) == 3:\n",
    "        break \n",
    "print(List_1)"
   ]
  },
  {
   "cell_type": "code",
   "execution_count": null,
   "id": "58f5cfb7",
   "metadata": {},
   "outputs": [],
   "source": []
  },
  {
   "cell_type": "code",
   "execution_count": null,
   "id": "7eb2b416",
   "metadata": {},
   "outputs": [],
   "source": []
  },
  {
   "cell_type": "code",
   "execution_count": 6,
   "id": "51fe2eff",
   "metadata": {},
   "outputs": [
    {
     "name": "stdout",
     "output_type": "stream",
     "text": [
      "Please enter your queries here... send me the candidate name?\n"
     ]
    },
    {
     "ename": "AuthenticationError",
     "evalue": "Incorrect API key provided: asst_xex*****************erxq. You can find your API key at https://platform.openai.com/account/api-keys.",
     "output_type": "error",
     "traceback": [
      "\u001b[1;31m---------------------------------------------------------------------------\u001b[0m",
      "\u001b[1;31mAuthenticationError\u001b[0m                       Traceback (most recent call last)",
      "Cell \u001b[1;32mIn[6], line 28\u001b[0m\n\u001b[0;32m     20\u001b[0m prompt \u001b[38;5;241m=\u001b[39m (\n\u001b[0;32m     21\u001b[0m     \u001b[38;5;124m\"\u001b[39m\u001b[38;5;124mI have resumes, and I need to ask questions from resumes. \u001b[39m\u001b[38;5;124m\"\u001b[39m\n\u001b[0;32m     22\u001b[0m     \u001b[38;5;124m\"\u001b[39m\u001b[38;5;124mSo what are the questions I can ask and I need to get all details from the resume.\u001b[39m\u001b[38;5;130;01m\\n\u001b[39;00m\u001b[38;5;130;01m\\n\u001b[39;00m\u001b[38;5;124m\"\u001b[39m\n\u001b[0;32m     23\u001b[0m     \u001b[38;5;124mf\u001b[39m\u001b[38;5;124m\"\u001b[39m\u001b[38;5;124mUser query: \u001b[39m\u001b[38;5;132;01m{\u001b[39;00minput_txt\u001b[38;5;132;01m}\u001b[39;00m\u001b[38;5;130;01m\\n\u001b[39;00m\u001b[38;5;124m\"\u001b[39m\n\u001b[0;32m     24\u001b[0m     \u001b[38;5;124mf\u001b[39m\u001b[38;5;124m\"\u001b[39m\u001b[38;5;124mResume text: \u001b[39m\u001b[38;5;132;01m{\u001b[39;00mpdf_text\u001b[38;5;132;01m}\u001b[39;00m\u001b[38;5;124m\"\u001b[39m\n\u001b[0;32m     25\u001b[0m )\n\u001b[0;32m     27\u001b[0m \u001b[38;5;66;03m# Call the OpenAI API\u001b[39;00m\n\u001b[1;32m---> 28\u001b[0m response \u001b[38;5;241m=\u001b[39m openai\u001b[38;5;241m.\u001b[39mCompletion\u001b[38;5;241m.\u001b[39mcreate(\n\u001b[0;32m     29\u001b[0m     engine\u001b[38;5;241m=\u001b[39m\u001b[38;5;124m\"\u001b[39m\u001b[38;5;124mtext-davinci-003\u001b[39m\u001b[38;5;124m\"\u001b[39m,  \u001b[38;5;66;03m# Use the desired engine (davinci, curie, etc.)\u001b[39;00m\n\u001b[0;32m     30\u001b[0m     prompt\u001b[38;5;241m=\u001b[39mprompt,\n\u001b[0;32m     31\u001b[0m     max_tokens\u001b[38;5;241m=\u001b[39m\u001b[38;5;241m1500\u001b[39m,  \u001b[38;5;66;03m# Adjust the max tokens as needed\u001b[39;00m\n\u001b[0;32m     32\u001b[0m     temperature\u001b[38;5;241m=\u001b[39m\u001b[38;5;241m0.7\u001b[39m,\n\u001b[0;32m     33\u001b[0m )\n\u001b[0;32m     35\u001b[0m \u001b[38;5;66;03m# Print the response\u001b[39;00m\n\u001b[0;32m     36\u001b[0m \u001b[38;5;28mprint\u001b[39m(\u001b[38;5;124m\"\u001b[39m\u001b[38;5;124mOutput:\u001b[39m\u001b[38;5;124m\"\u001b[39m, response\u001b[38;5;241m.\u001b[39mchoices[\u001b[38;5;241m0\u001b[39m]\u001b[38;5;241m.\u001b[39mtext\u001b[38;5;241m.\u001b[39mstrip())\n",
      "File \u001b[1;32m~\\anaconda3\\Lib\\site-packages\\openai\\api_resources\\completion.py:25\u001b[0m, in \u001b[0;36mCompletion.create\u001b[1;34m(cls, *args, **kwargs)\u001b[0m\n\u001b[0;32m     23\u001b[0m \u001b[38;5;28;01mwhile\u001b[39;00m \u001b[38;5;28;01mTrue\u001b[39;00m:\n\u001b[0;32m     24\u001b[0m     \u001b[38;5;28;01mtry\u001b[39;00m:\n\u001b[1;32m---> 25\u001b[0m         \u001b[38;5;28;01mreturn\u001b[39;00m \u001b[38;5;28msuper\u001b[39m()\u001b[38;5;241m.\u001b[39mcreate(\u001b[38;5;241m*\u001b[39margs, \u001b[38;5;241m*\u001b[39m\u001b[38;5;241m*\u001b[39mkwargs)\n\u001b[0;32m     26\u001b[0m     \u001b[38;5;28;01mexcept\u001b[39;00m TryAgain \u001b[38;5;28;01mas\u001b[39;00m e:\n\u001b[0;32m     27\u001b[0m         \u001b[38;5;28;01mif\u001b[39;00m timeout \u001b[38;5;129;01mis\u001b[39;00m \u001b[38;5;129;01mnot\u001b[39;00m \u001b[38;5;28;01mNone\u001b[39;00m \u001b[38;5;129;01mand\u001b[39;00m time\u001b[38;5;241m.\u001b[39mtime() \u001b[38;5;241m>\u001b[39m start \u001b[38;5;241m+\u001b[39m timeout:\n",
      "File \u001b[1;32m~\\anaconda3\\Lib\\site-packages\\openai\\api_resources\\abstract\\engine_api_resource.py:153\u001b[0m, in \u001b[0;36mEngineAPIResource.create\u001b[1;34m(cls, api_key, api_base, api_type, request_id, api_version, organization, **params)\u001b[0m\n\u001b[0;32m    127\u001b[0m \u001b[38;5;129m@classmethod\u001b[39m\n\u001b[0;32m    128\u001b[0m \u001b[38;5;28;01mdef\u001b[39;00m \u001b[38;5;21mcreate\u001b[39m(\n\u001b[0;32m    129\u001b[0m     \u001b[38;5;28mcls\u001b[39m,\n\u001b[1;32m   (...)\u001b[0m\n\u001b[0;32m    136\u001b[0m     \u001b[38;5;241m*\u001b[39m\u001b[38;5;241m*\u001b[39mparams,\n\u001b[0;32m    137\u001b[0m ):\n\u001b[0;32m    138\u001b[0m     (\n\u001b[0;32m    139\u001b[0m         deployment_id,\n\u001b[0;32m    140\u001b[0m         engine,\n\u001b[1;32m   (...)\u001b[0m\n\u001b[0;32m    150\u001b[0m         api_key, api_base, api_type, api_version, organization, \u001b[38;5;241m*\u001b[39m\u001b[38;5;241m*\u001b[39mparams\n\u001b[0;32m    151\u001b[0m     )\n\u001b[1;32m--> 153\u001b[0m     response, _, api_key \u001b[38;5;241m=\u001b[39m requestor\u001b[38;5;241m.\u001b[39mrequest(\n\u001b[0;32m    154\u001b[0m         \u001b[38;5;124m\"\u001b[39m\u001b[38;5;124mpost\u001b[39m\u001b[38;5;124m\"\u001b[39m,\n\u001b[0;32m    155\u001b[0m         url,\n\u001b[0;32m    156\u001b[0m         params\u001b[38;5;241m=\u001b[39mparams,\n\u001b[0;32m    157\u001b[0m         headers\u001b[38;5;241m=\u001b[39mheaders,\n\u001b[0;32m    158\u001b[0m         stream\u001b[38;5;241m=\u001b[39mstream,\n\u001b[0;32m    159\u001b[0m         request_id\u001b[38;5;241m=\u001b[39mrequest_id,\n\u001b[0;32m    160\u001b[0m         request_timeout\u001b[38;5;241m=\u001b[39mrequest_timeout,\n\u001b[0;32m    161\u001b[0m     )\n\u001b[0;32m    163\u001b[0m     \u001b[38;5;28;01mif\u001b[39;00m stream:\n\u001b[0;32m    164\u001b[0m         \u001b[38;5;66;03m# must be an iterator\u001b[39;00m\n\u001b[0;32m    165\u001b[0m         \u001b[38;5;28;01massert\u001b[39;00m \u001b[38;5;129;01mnot\u001b[39;00m \u001b[38;5;28misinstance\u001b[39m(response, OpenAIResponse)\n",
      "File \u001b[1;32m~\\anaconda3\\Lib\\site-packages\\openai\\api_requestor.py:298\u001b[0m, in \u001b[0;36mAPIRequestor.request\u001b[1;34m(self, method, url, params, headers, files, stream, request_id, request_timeout)\u001b[0m\n\u001b[0;32m    277\u001b[0m \u001b[38;5;28;01mdef\u001b[39;00m \u001b[38;5;21mrequest\u001b[39m(\n\u001b[0;32m    278\u001b[0m     \u001b[38;5;28mself\u001b[39m,\n\u001b[0;32m    279\u001b[0m     method,\n\u001b[1;32m   (...)\u001b[0m\n\u001b[0;32m    286\u001b[0m     request_timeout: Optional[Union[\u001b[38;5;28mfloat\u001b[39m, Tuple[\u001b[38;5;28mfloat\u001b[39m, \u001b[38;5;28mfloat\u001b[39m]]] \u001b[38;5;241m=\u001b[39m \u001b[38;5;28;01mNone\u001b[39;00m,\n\u001b[0;32m    287\u001b[0m ) \u001b[38;5;241m-\u001b[39m\u001b[38;5;241m>\u001b[39m Tuple[Union[OpenAIResponse, Iterator[OpenAIResponse]], \u001b[38;5;28mbool\u001b[39m, \u001b[38;5;28mstr\u001b[39m]:\n\u001b[0;32m    288\u001b[0m     result \u001b[38;5;241m=\u001b[39m \u001b[38;5;28mself\u001b[39m\u001b[38;5;241m.\u001b[39mrequest_raw(\n\u001b[0;32m    289\u001b[0m         method\u001b[38;5;241m.\u001b[39mlower(),\n\u001b[0;32m    290\u001b[0m         url,\n\u001b[1;32m   (...)\u001b[0m\n\u001b[0;32m    296\u001b[0m         request_timeout\u001b[38;5;241m=\u001b[39mrequest_timeout,\n\u001b[0;32m    297\u001b[0m     )\n\u001b[1;32m--> 298\u001b[0m     resp, got_stream \u001b[38;5;241m=\u001b[39m \u001b[38;5;28mself\u001b[39m\u001b[38;5;241m.\u001b[39m_interpret_response(result, stream)\n\u001b[0;32m    299\u001b[0m     \u001b[38;5;28;01mreturn\u001b[39;00m resp, got_stream, \u001b[38;5;28mself\u001b[39m\u001b[38;5;241m.\u001b[39mapi_key\n",
      "File \u001b[1;32m~\\anaconda3\\Lib\\site-packages\\openai\\api_requestor.py:700\u001b[0m, in \u001b[0;36mAPIRequestor._interpret_response\u001b[1;34m(self, result, stream)\u001b[0m\n\u001b[0;32m    692\u001b[0m     \u001b[38;5;28;01mreturn\u001b[39;00m (\n\u001b[0;32m    693\u001b[0m         \u001b[38;5;28mself\u001b[39m\u001b[38;5;241m.\u001b[39m_interpret_response_line(\n\u001b[0;32m    694\u001b[0m             line, result\u001b[38;5;241m.\u001b[39mstatus_code, result\u001b[38;5;241m.\u001b[39mheaders, stream\u001b[38;5;241m=\u001b[39m\u001b[38;5;28;01mTrue\u001b[39;00m\n\u001b[0;32m    695\u001b[0m         )\n\u001b[0;32m    696\u001b[0m         \u001b[38;5;28;01mfor\u001b[39;00m line \u001b[38;5;129;01min\u001b[39;00m parse_stream(result\u001b[38;5;241m.\u001b[39miter_lines())\n\u001b[0;32m    697\u001b[0m     ), \u001b[38;5;28;01mTrue\u001b[39;00m\n\u001b[0;32m    698\u001b[0m \u001b[38;5;28;01melse\u001b[39;00m:\n\u001b[0;32m    699\u001b[0m     \u001b[38;5;28;01mreturn\u001b[39;00m (\n\u001b[1;32m--> 700\u001b[0m         \u001b[38;5;28mself\u001b[39m\u001b[38;5;241m.\u001b[39m_interpret_response_line(\n\u001b[0;32m    701\u001b[0m             result\u001b[38;5;241m.\u001b[39mcontent\u001b[38;5;241m.\u001b[39mdecode(\u001b[38;5;124m\"\u001b[39m\u001b[38;5;124mutf-8\u001b[39m\u001b[38;5;124m\"\u001b[39m),\n\u001b[0;32m    702\u001b[0m             result\u001b[38;5;241m.\u001b[39mstatus_code,\n\u001b[0;32m    703\u001b[0m             result\u001b[38;5;241m.\u001b[39mheaders,\n\u001b[0;32m    704\u001b[0m             stream\u001b[38;5;241m=\u001b[39m\u001b[38;5;28;01mFalse\u001b[39;00m,\n\u001b[0;32m    705\u001b[0m         ),\n\u001b[0;32m    706\u001b[0m         \u001b[38;5;28;01mFalse\u001b[39;00m,\n\u001b[0;32m    707\u001b[0m     )\n",
      "File \u001b[1;32m~\\anaconda3\\Lib\\site-packages\\openai\\api_requestor.py:765\u001b[0m, in \u001b[0;36mAPIRequestor._interpret_response_line\u001b[1;34m(self, rbody, rcode, rheaders, stream)\u001b[0m\n\u001b[0;32m    763\u001b[0m stream_error \u001b[38;5;241m=\u001b[39m stream \u001b[38;5;129;01mand\u001b[39;00m \u001b[38;5;124m\"\u001b[39m\u001b[38;5;124merror\u001b[39m\u001b[38;5;124m\"\u001b[39m \u001b[38;5;129;01min\u001b[39;00m resp\u001b[38;5;241m.\u001b[39mdata\n\u001b[0;32m    764\u001b[0m \u001b[38;5;28;01mif\u001b[39;00m stream_error \u001b[38;5;129;01mor\u001b[39;00m \u001b[38;5;129;01mnot\u001b[39;00m \u001b[38;5;241m200\u001b[39m \u001b[38;5;241m<\u001b[39m\u001b[38;5;241m=\u001b[39m rcode \u001b[38;5;241m<\u001b[39m \u001b[38;5;241m300\u001b[39m:\n\u001b[1;32m--> 765\u001b[0m     \u001b[38;5;28;01mraise\u001b[39;00m \u001b[38;5;28mself\u001b[39m\u001b[38;5;241m.\u001b[39mhandle_error_response(\n\u001b[0;32m    766\u001b[0m         rbody, rcode, resp\u001b[38;5;241m.\u001b[39mdata, rheaders, stream_error\u001b[38;5;241m=\u001b[39mstream_error\n\u001b[0;32m    767\u001b[0m     )\n\u001b[0;32m    768\u001b[0m \u001b[38;5;28;01mreturn\u001b[39;00m resp\n",
      "\u001b[1;31mAuthenticationError\u001b[0m: Incorrect API key provided: asst_xex*****************erxq. You can find your API key at https://platform.openai.com/account/api-keys."
     ]
    }
   ],
   "source": [
    "import openai\n",
    "import pdfplumber\n",
    "\n",
    "# Set up your OpenAI API key\n",
    "openai.api_key = 'asst_xexoJN1Cj1gFj7lFmKHaerxq'\n",
    "\n",
    "pdf_path = r\"C:\\Users\\murugan\\Downloads\\Muthukumar.pdf\"\n",
    "\n",
    "def extract_text_from_pdf(pdf_path):\n",
    "    with pdfplumber.open(pdf_path) as pdf:\n",
    "        pages_text = [page.extract_text() for page in pdf.pages]\n",
    "    return \"\\n\".join(pages_text)\n",
    "\n",
    "pdf_text = extract_text_from_pdf(pdf_path)\n",
    "\n",
    "# Get user query\n",
    "input_txt = input(\"Please enter your queries here... \")\n",
    "\n",
    "# Define the prompt\n",
    "prompt = (\n",
    "    \"I have resumes, and I need to ask questions from resumes. \"\n",
    "    \"So what are the questions I can ask and I need to get all details from the resume.\\n\\n\"\n",
    "    f\"User query: {input_txt}\\n\"\n",
    "    f\"Resume text: {pdf_text}\"\n",
    ")\n",
    "\n",
    "# Call the OpenAI API\n",
    "response = openai.Completion.create(\n",
    "    engine=\"text-davinci-003\",  # Use the desired engine (davinci, curie, etc.)\n",
    "    prompt=prompt,\n",
    "    max_tokens=1500,  # Adjust the max tokens as needed\n",
    "    temperature=0.7,\n",
    ")\n",
    "\n",
    "# Print the response\n",
    "print(\"Output:\", response.choices[0].text.strip())\n"
   ]
  },
  {
   "cell_type": "code",
   "execution_count": null,
   "id": "3146d394",
   "metadata": {},
   "outputs": [],
   "source": []
  },
  {
   "cell_type": "code",
   "execution_count": null,
   "id": "3062a6d1",
   "metadata": {},
   "outputs": [],
   "source": []
  },
  {
   "cell_type": "code",
   "execution_count": null,
   "id": "93d512f0",
   "metadata": {},
   "outputs": [],
   "source": []
  },
  {
   "cell_type": "code",
   "execution_count": null,
   "id": "033ce1fc",
   "metadata": {},
   "outputs": [],
   "source": []
  },
  {
   "cell_type": "code",
   "execution_count": null,
   "id": "a2cbaecf",
   "metadata": {},
   "outputs": [],
   "source": []
  },
  {
   "cell_type": "code",
   "execution_count": 8,
   "id": "a764ceea",
   "metadata": {},
   "outputs": [],
   "source": [
    "questions =[\"What is the role or profession mentioned in the PDF?\"\n",
    "\"What programming languages and frameworks are listed under skills?\"\n",
    "\"What is the contact information provided (email, phone number, location, GitHub, LinkedIn)?\"\n",
    "\"What languages are mentioned?\"\n",
    "\"What are the interests or hobbies listed?\"\n",
    "\"What is the current work experience mentioned, including the company name and position?\"\n",
    "\"Can you describe the projects mentioned, including the technologies used and the project details? and send me the generated_details forall project?\"\n",
    "\"What is the educational background mentioned, including the degrees obtained and the institutions attended?\"\n",
    "\"How does the candidate describe themselves in the summary section?\"\n",
    "\"What specific skills or experiences are highlighted related to web development and application design?\"]"
   ]
  }
 ],
 "metadata": {
  "kernelspec": {
   "display_name": "Python 3 (ipykernel)",
   "language": "python",
   "name": "python3"
  },
  "language_info": {
   "codemirror_mode": {
    "name": "ipython",
    "version": 3
   },
   "file_extension": ".py",
   "mimetype": "text/x-python",
   "name": "python",
   "nbconvert_exporter": "python",
   "pygments_lexer": "ipython3",
   "version": "3.11.7"
  }
 },
 "nbformat": 4,
 "nbformat_minor": 5
}
